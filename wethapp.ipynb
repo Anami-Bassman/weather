{
 "cells": [
  {
   "cell_type": "code",
   "execution_count": null,
   "id": "6a957b50",
   "metadata": {},
   "outputs": [],
   "source": [
    "from flask import Flask, render_template, request\n",
    "import joblib\n",
    "\n",
    "app = Flask(__name__)\n",
    "\n",
    "# Load the trained model\n",
    "model = joblib.load('model.pkl')\n",
    "\n",
    "# Define routes\n",
    "@app.route('/')\n",
    "def index():\n",
    "    return render_template('index.html')\n",
    "\n",
    "@app.route('/predict', methods=['POST'])\n",
    "def predict():\n",
    "    if request.method == 'POST':\n",
    "        # Get user input from the form\n",
    "        temp_C = float(request.form['temp_C'])\n",
    "        dew_point_temp_C = float(request.form['dew_point_temp_C'])\n",
    "        rel_hum = float(request.form['rel_hum'])\n",
    "        wind_speed_km_h = float(request.form['wind_speed_km_h'])\n",
    "        visibility_km = float(request.form['visibility_km'])\n",
    "        press_kPa = float(request.form['press_kPa'])\n",
    "\n",
    "        # Make prediction using the loaded model\n",
    "        prediction = model.predict([[temp_C, dew_point_temp_C, rel_hum, wind_speed_km_h, visibility_km, press_kPa]])\n",
    "\n",
    "        # Pass the prediction back to the user interface\n",
    "        return render_template('index.html', prediction=prediction[0])\n",
    "        \n",
    "if __name__ == '__main__':\n",
    "    app.run()\n"
   ]
  }
 ],
 "metadata": {
  "kernelspec": {
   "display_name": "Python 3 (ipykernel)",
   "language": "python",
   "name": "python3"
  },
  "language_info": {
   "codemirror_mode": {
    "name": "ipython",
    "version": 3
   },
   "file_extension": ".py",
   "mimetype": "text/x-python",
   "name": "python",
   "nbconvert_exporter": "python",
   "pygments_lexer": "ipython3",
   "version": "3.9.13"
  }
 },
 "nbformat": 4,
 "nbformat_minor": 5
}
